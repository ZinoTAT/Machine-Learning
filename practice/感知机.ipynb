{
  "nbformat": 4,
  "nbformat_minor": 0,
  "metadata": {
    "colab": {
      "name": "感知机.ipynb",
      "provenance": [],
      "authorship_tag": "ABX9TyPgJmUwRRzpw4LGFVAPaH2n",
      "include_colab_link": true
    },
    "kernelspec": {
      "name": "python3",
      "display_name": "Python 3"
    }
  },
  "cells": [
    {
      "cell_type": "markdown",
      "metadata": {
        "id": "view-in-github",
        "colab_type": "text"
      },
      "source": [
        "<a href=\"https://colab.research.google.com/github/ZinoTAT/Machine-Learning/blob/master/practice/%E6%84%9F%E7%9F%A5%E6%9C%BA.ipynb\" target=\"_parent\"><img src=\"https://colab.research.google.com/assets/colab-badge.svg\" alt=\"Open In Colab\"/></a>"
      ]
    },
    {
      "cell_type": "code",
      "metadata": {
        "id": "dfkx0ZXYwtjc",
        "colab_type": "code",
        "colab": {
          "base_uri": "https://localhost:8080/",
          "height": 34
        },
        "outputId": "8ff4e172-e3e3-43d0-b018-8f1dc4d73652"
      },
      "source": [
        "import torch\n",
        "print(torch.__version__)\n",
        "import torch.nn.functional as F"
      ],
      "execution_count": 1,
      "outputs": [
        {
          "output_type": "stream",
          "text": [
            "1.4.0\n"
          ],
          "name": "stdout"
        }
      ]
    },
    {
      "cell_type": "markdown",
      "metadata": {
        "id": "MyWhT6XM0i0q",
        "colab_type": "text"
      },
      "source": [
        "# 单层单节点感知机"
      ]
    },
    {
      "cell_type": "code",
      "metadata": {
        "id": "ULsi0tjd0bbl",
        "colab_type": "code",
        "colab": {
          "base_uri": "https://localhost:8080/",
          "height": 50
        },
        "outputId": "f57b5a88-db83-47b5-aa67-da1ec4d62ad1"
      },
      "source": [
        "x = torch.randn(1, 10).t_()\n",
        "w = torch.randn(1, 10).requires_grad_()\n",
        "o = torch.sigmoid(w @ x)\n",
        "loss = F.mse_loss(o, torch.ones(1, 1))\n",
        "loss.backward()\n",
        "print(w.grad)"
      ],
      "execution_count": 2,
      "outputs": [
        {
          "output_type": "stream",
          "text": [
            "tensor([[-0.0264, -0.0907, -0.0786,  0.2776, -0.1078,  0.0777, -0.0914,  0.1514,\n",
            "         -0.1903,  0.0553]])\n"
          ],
          "name": "stdout"
        }
      ]
    },
    {
      "cell_type": "markdown",
      "metadata": {
        "id": "cAm3f7ja3JGR",
        "colab_type": "text"
      },
      "source": [
        "# 单层多节点感知机"
      ]
    },
    {
      "cell_type": "code",
      "metadata": {
        "id": "JuTUrADP3M12",
        "colab_type": "code",
        "colab": {
          "base_uri": "https://localhost:8080/",
          "height": 84
        },
        "outputId": "5fc27c85-bc78-407b-fc2c-78b72e2c5522"
      },
      "source": [
        "x = torch.randn(1, 10).t_()\n",
        "w = torch.randn(2, 10).requires_grad_()\n",
        "o = w @ x\n",
        "loss =F.mse_loss(o, torch.ones(2, 1))\n",
        "loss.backward()\n",
        "print(w.grad)"
      ],
      "execution_count": 3,
      "outputs": [
        {
          "output_type": "stream",
          "text": [
            "tensor([[ 3.9598,  1.2427, -0.8122, -4.4315,  2.6786,  0.2461,  0.0617, -4.2172,\n",
            "          0.6488,  1.4026],\n",
            "        [ 4.3002,  1.3495, -0.8820, -4.8125,  2.9089,  0.2673,  0.0670, -4.5798,\n",
            "          0.7046,  1.5232]])\n"
          ],
          "name": "stdout"
        }
      ]
    }
  ]
}