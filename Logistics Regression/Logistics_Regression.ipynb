{
  "nbformat": 4,
  "nbformat_minor": 0,
  "metadata": {
    "colab": {
      "name": "Logistics Regression.ipynb",
      "provenance": [],
      "authorship_tag": "ABX9TyMKJAtXgwMWes6HDZXKUkkZ",
      "include_colab_link": true
    },
    "kernelspec": {
      "name": "python3",
      "display_name": "Python 3"
    }
  },
  "cells": [
    {
      "cell_type": "markdown",
      "metadata": {
        "id": "view-in-github",
        "colab_type": "text"
      },
      "source": [
        "<a href=\"https://colab.research.google.com/github/ZinoTAT/Machine-Learning-Practices/blob/master/Logistics%20Regression/Logistics_Regression.ipynb\" target=\"_parent\"><img src=\"https://colab.research.google.com/assets/colab-badge.svg\" alt=\"Open In Colab\"/></a>"
      ]
    },
    {
      "cell_type": "markdown",
      "metadata": {
        "id": "NfKd-anN12RF",
        "colab_type": "text"
      },
      "source": [
        "逻辑回归的小练习，使用tensorflow2，keras\n"
      ]
    },
    {
      "cell_type": "code",
      "metadata": {
        "id": "8a8ZISAO2JCx",
        "colab_type": "code",
        "colab": {
          "base_uri": "https://localhost:8080/",
          "height": 34
        },
        "outputId": "ba40ee09-a31d-4d1f-ce05-dd4bbb722c59"
      },
      "source": [
        "from __future__ import absolute_import, division, print_function, unicode_literals\n",
        "# Install TensorFlow\n",
        "try:\n",
        "  # %tensorflow_version only exists in Colab.\n",
        "  %tensorflow_version 2.x\n",
        "except Exception:\n",
        "  pass\n",
        "import tensorflow as tf\n",
        "from tensorflow import keras\n",
        "\n",
        "import numpy as np\n",
        "import matplotlib.pyplot as plt\n",
        "\n",
        "print(tf.__version__)"
      ],
      "execution_count": 2,
      "outputs": [
        {
          "output_type": "stream",
          "text": [
            "2.1.0-rc1\n"
          ],
          "name": "stdout"
        }
      ]
    },
    {
      "cell_type": "markdown",
      "metadata": {
        "id": "CQLbf8rC2Eol",
        "colab_type": "text"
      },
      "source": [
        ""
      ]
    }
  ]
}