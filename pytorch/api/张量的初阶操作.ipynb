{
  "nbformat": 4,
  "nbformat_minor": 0,
  "metadata": {
    "colab": {
      "name": "张量的初阶操作.ipynb",
      "provenance": [],
      "collapsed_sections": [],
      "toc_visible": true,
      "authorship_tag": "ABX9TyNyTJFeC5bHWWkgNdPmekfF",
      "include_colab_link": true
    },
    "kernelspec": {
      "name": "python3",
      "display_name": "Python 3"
    }
  },
  "cells": [
    {
      "cell_type": "markdown",
      "metadata": {
        "id": "view-in-github",
        "colab_type": "text"
      },
      "source": [
        "<a href=\"https://colab.research.google.com/github/ZinoTAT/Machine-Learning-Practices/blob/master/pytorch/%E5%BC%A0%E9%87%8F%E7%9A%84%E5%88%9D%E9%98%B6%E6%93%8D%E4%BD%9C.ipynb\" target=\"_parent\"><img src=\"https://colab.research.google.com/assets/colab-badge.svg\" alt=\"Open In Colab\"/></a>"
      ]
    },
    {
      "cell_type": "markdown",
      "metadata": {
        "id": "jRtHb2vVW30n",
        "colab_type": "text"
      },
      "source": [
        "张量的基础操作，文中仅给出常用的api和简单样例，详细可前往[pytorch官方文档](https://pytorch.org/docs/stable/index.html)搜索"
      ]
    },
    {
      "cell_type": "code",
      "metadata": {
        "id": "Hx7fruNIl0VH",
        "colab_type": "code",
        "outputId": "5094db60-3d1c-439a-9f98-d96ddeac7b8f",
        "colab": {
          "base_uri": "https://localhost:8080/",
          "height": 34
        }
      },
      "source": [
        "import torch \n",
        "import numpy as np\n",
        "print(torch.__version__)"
      ],
      "execution_count": 2,
      "outputs": [
        {
          "output_type": "stream",
          "text": [
            "1.4.0\n"
          ],
          "name": "stdout"
        }
      ]
    },
    {
      "cell_type": "markdown",
      "metadata": {
        "id": "-dxIn_PWPCEk",
        "colab_type": "text"
      },
      "source": [
        "# 张量的创建\n",
        "张量的创建一般可以由numpy或list导入，也可以直接使用pytorh的api创建"
      ]
    },
    {
      "cell_type": "markdown",
      "metadata": {
        "id": "Tn9bKIFdTzhd",
        "colab_type": "text"
      },
      "source": [
        "## 从numpy或list导入张量"
      ]
    },
    {
      "cell_type": "code",
      "metadata": {
        "id": "C-q9vPGGQlZb",
        "colab_type": "code",
        "colab": {
          "base_uri": "https://localhost:8080/",
          "height": 84
        },
        "outputId": "3a5e04fa-6209-4114-bdb3-ad134d80272d"
      },
      "source": [
        "a = np.array([1, 2])\n",
        "b = [1, 2]\n",
        "print(torch.from_numpy(a))\n",
        "print(torch.tensor(b))\n",
        "print(torch.Tensor(b))\n",
        "print(torch.FloatTensor(b))"
      ],
      "execution_count": 24,
      "outputs": [
        {
          "output_type": "stream",
          "text": [
            "tensor([1, 2])\n",
            "tensor([1, 2])\n",
            "tensor([1., 2.])\n",
            "tensor([1., 2.])\n"
          ],
          "name": "stdout"
        }
      ]
    },
    {
      "cell_type": "markdown",
      "metadata": {
        "id": "uZ517b0iRXne",
        "colab_type": "text"
      },
      "source": [
        "## 使用pytoch创建张量"
      ]
    },
    {
      "cell_type": "code",
      "metadata": {
        "id": "KBLPKF__p9W-",
        "colab_type": "code",
        "colab": {
          "base_uri": "https://localhost:8080/",
          "height": 302
        },
        "outputId": "a2b01f2c-501d-482b-b09a-6aeeb92aa6ea"
      },
      "source": [
        "print(torch.rand(2, 3)) # 创建张量并用0到1的均匀分布初始化\n",
        "print(torch.randn(2, 3)) # 创建张量并用标准正态分布初始化\n",
        "print(torch.Tensor(2, 3)) # 创建张量但不进行初始化\n",
        "print(torch.empty(2, 3)) # 创建张量但不进行初始化\n",
        "print(torch.ones(2, 3))\n",
        "print(torch.zeros(2, 3))\n",
        "print(torch.eye(3, 4))\n",
        "print(torch.arange(0, 10))\n",
        "print(torch.linspace(0, 10, steps=4))"
      ],
      "execution_count": 36,
      "outputs": [
        {
          "output_type": "stream",
          "text": [
            "tensor([[0.6708, 0.1230, 0.3656],\n",
            "        [0.0969, 0.9176, 0.2705]])\n",
            "tensor([[ 0.5485,  0.0693,  0.2670],\n",
            "        [ 1.5007, -0.3591, -0.5126]])\n",
            "tensor([[ 2.3118e-35,  0.0000e+00,  2.6699e-01],\n",
            "        [ 1.5007e+00, -3.5906e-01, -5.1258e-01]])\n",
            "tensor([[ 2.3118e-35,  0.0000e+00,  2.6699e-01],\n",
            "        [ 1.5007e+00, -3.5906e-01, -5.1258e-01]])\n",
            "tensor([[1., 1., 1.],\n",
            "        [1., 1., 1.]])\n",
            "tensor([[0., 0., 0.],\n",
            "        [0., 0., 0.]])\n",
            "tensor([[1., 0., 0., 0.],\n",
            "        [0., 1., 0., 0.],\n",
            "        [0., 0., 1., 0.]])\n",
            "tensor([0, 1, 2, 3, 4, 5, 6, 7, 8, 9])\n",
            "tensor([ 0.0000,  3.3333,  6.6667, 10.0000])\n"
          ],
          "name": "stdout"
        }
      ]
    },
    {
      "cell_type": "markdown",
      "metadata": {
        "id": "3Sh5xOyiTmLk",
        "colab_type": "text"
      },
      "source": [
        "# 张量的索引和切片\n"
      ]
    },
    {
      "cell_type": "markdown",
      "metadata": {
        "id": "b1uaB0ztT3lb",
        "colab_type": "text"
      },
      "source": [
        "## 类python中list的索引方式"
      ]
    },
    {
      "cell_type": "code",
      "metadata": {
        "id": "xqp_MYLeUCPX",
        "colab_type": "code",
        "colab": {
          "base_uri": "https://localhost:8080/",
          "height": 50
        },
        "outputId": "f6346753-7f81-45e9-d1cb-34815ce26539"
      },
      "source": [
        "a = torch.randn(4, 3, 28, 28)\n",
        "print(a.shape)\n",
        "print(a[2:, 1, ..., ::2].shape)"
      ],
      "execution_count": 45,
      "outputs": [
        {
          "output_type": "stream",
          "text": [
            "torch.Size([4, 3, 28, 28])\n",
            "torch.Size([2, 28, 14])\n"
          ],
          "name": "stdout"
        }
      ]
    },
    {
      "cell_type": "markdown",
      "metadata": {
        "id": "TYDtFvG3U7pk",
        "colab_type": "text"
      },
      "source": [
        "## 使用mask进行索引"
      ]
    },
    {
      "cell_type": "code",
      "metadata": {
        "id": "Ty3eft_bVAab",
        "colab_type": "code",
        "colab": {
          "base_uri": "https://localhost:8080/",
          "height": 134
        },
        "outputId": "1ae5dcac-abc1-495e-b83d-29ceea11ff73"
      },
      "source": [
        "a = torch.randn(3, 4)\n",
        "print(a)\n",
        "mask = a.ge(0.5)\n",
        "print(mask)\n",
        "print(torch.masked_select(a, mask))\n"
      ],
      "execution_count": 46,
      "outputs": [
        {
          "output_type": "stream",
          "text": [
            "tensor([[-0.7873,  0.5286,  0.9342,  1.1598],\n",
            "        [ 0.0788,  0.4924,  0.8003,  2.0119],\n",
            "        [-0.5521, -1.5743, -0.3063,  1.0140]])\n",
            "tensor([[False,  True,  True,  True],\n",
            "        [False, False,  True,  True],\n",
            "        [False, False, False,  True]])\n",
            "tensor([0.5286, 0.9342, 1.1598, 0.8003, 2.0119, 1.0140])\n"
          ],
          "name": "stdout"
        }
      ]
    },
    {
      "cell_type": "markdown",
      "metadata": {
        "id": "QVIMJHAcVhgo",
        "colab_type": "text"
      },
      "source": [
        "## 会将结果拍平的索引方式"
      ]
    },
    {
      "cell_type": "code",
      "metadata": {
        "id": "J61HddNuVmWL",
        "colab_type": "code",
        "colab": {
          "base_uri": "https://localhost:8080/",
          "height": 34
        },
        "outputId": "db1009a6-14a3-4fde-e8b5-f7fc9623f156"
      },
      "source": [
        "a = torch.tensor([[4, 3, 5], [6, 7, 8]])\n",
        "print(torch.take(a, torch.tensor([0, 2, 5])))"
      ],
      "execution_count": 47,
      "outputs": [
        {
          "output_type": "stream",
          "text": [
            "tensor([4, 5, 8])\n"
          ],
          "name": "stdout"
        }
      ]
    },
    {
      "cell_type": "markdown",
      "metadata": {
        "id": "9_aLUSc5PMyf",
        "colab_type": "text"
      },
      "source": [
        "# 张量的维度变换"
      ]
    },
    {
      "cell_type": "markdown",
      "metadata": {
        "id": "z46dYhvFpYca",
        "colab_type": "text"
      },
      "source": [
        "## 维度的增加和删减\n",
        "unsqueeze(int index) index为要插入的维度的位置，0表示第一个位置， -1表示最后一个位置\\\n",
        "squeeze(int dim) 选择要删除的维度，当该维度长度大于1时不变,参数为空时删除所有长度为1的维度"
      ]
    },
    {
      "cell_type": "code",
      "metadata": {
        "id": "z784AtbFpJCO",
        "colab_type": "code",
        "outputId": "4849d060-bb69-4142-c2af-328fd3197ab8",
        "colab": {
          "base_uri": "https://localhost:8080/",
          "height": 50
        }
      },
      "source": [
        "a = torch.rand(3, 4)\n",
        "us = a.unsqueeze(1).unsqueeze(-1)\n",
        "print(us.shape)\n",
        "print(a.unsqueeze(-2).shape)"
      ],
      "execution_count": 4,
      "outputs": [
        {
          "output_type": "stream",
          "text": [
            "torch.Size([3, 1, 4, 1])\n",
            "torch.Size([3, 1, 4])\n"
          ],
          "name": "stdout"
        }
      ]
    },
    {
      "cell_type": "code",
      "metadata": {
        "id": "ECYqq908rb71",
        "colab_type": "code",
        "outputId": "0c80edf1-cfef-4776-e912-d556472ddaaa",
        "colab": {
          "base_uri": "https://localhost:8080/",
          "height": 84
        }
      },
      "source": [
        "print(\"us.shape: \", us.shape)\n",
        "print(us.squeeze(1).shape) #当前选择维度的长度为1，删除\n",
        "print(us.squeeze(2).shape) #当前选择维度的长度不为1，保持不变\n",
        "print(us.squeeze().shape) #删除所有长度为1的维度"
      ],
      "execution_count": 5,
      "outputs": [
        {
          "output_type": "stream",
          "text": [
            "us.shape:  torch.Size([3, 1, 4, 1])\n",
            "torch.Size([3, 4, 1])\n",
            "torch.Size([3, 1, 4, 1])\n",
            "torch.Size([3, 4])\n"
          ],
          "name": "stdout"
        }
      ]
    },
    {
      "cell_type": "markdown",
      "metadata": {
        "id": "bl1RfqMysYQX",
        "colab_type": "text"
      },
      "source": [
        "## 维度的扩展\n",
        "expand(dim0, dim1, ...) 参数为各维度扩展后的长度，-1表示不变(推荐使用)\\\n",
        "repeat(index0, index1, ...) 参数为各维度要复制的次数"
      ]
    },
    {
      "cell_type": "code",
      "metadata": {
        "id": "fzxgh-38uLEp",
        "colab_type": "code",
        "outputId": "75e4119a-4131-45c8-edab-83b060bf1275",
        "colab": {
          "base_uri": "https://localhost:8080/",
          "height": 67
        }
      },
      "source": [
        "a = torch.rand(4, 32, 14, 14)\n",
        "b = torch.rand(1, 32, 1, 1)\n",
        "print(b.shape)\n",
        "print(b.expand(4, -1, 14, 14).shape)\n",
        "print(b.repeat(4, 1, 14, 14).shape)"
      ],
      "execution_count": 7,
      "outputs": [
        {
          "output_type": "stream",
          "text": [
            "torch.Size([1, 32, 1, 1])\n",
            "torch.Size([4, 32, 14, 14])\n",
            "torch.Size([4, 32, 14, 14])\n"
          ],
          "name": "stdout"
        }
      ]
    },
    {
      "cell_type": "markdown",
      "metadata": {
        "id": "gMtTKsebXpW8",
        "colab_type": "text"
      },
      "source": [
        "## 转置（维度的交换操作）\n",
        "transpose(dim1, dim2)dim1，dim2为要交换的两个维度\n",
        "contiguous 将张量的存储重新变得有序，在transpose操作之后使用\n",
        "permute(dim1, dim2, dim3, ...)参数为重新排列前维度系数"
      ]
    },
    {
      "cell_type": "code",
      "metadata": {
        "id": "NQOTz8AJr34P",
        "colab_type": "code",
        "colab": {
          "base_uri": "https://localhost:8080/",
          "height": 50
        },
        "outputId": "1514352c-8e5b-40ba-889a-097e6b69d0e4"
      },
      "source": [
        "a = torch.rand(4, 32, 14, 14)\n",
        "a1 = a.permute(0, 3, 1, 2).contiguous()\n",
        "a2 = a.transpose(1, 3).transpose(2, 3).contiguous()\n",
        "print(a1.shape, a2.shape)\n",
        "print(torch.all(torch.eq(a1, a2)))"
      ],
      "execution_count": 18,
      "outputs": [
        {
          "output_type": "stream",
          "text": [
            "torch.Size([4, 14, 32, 14]) torch.Size([4, 14, 32, 14])\n",
            "tensor(True)\n"
          ],
          "name": "stdout"
        }
      ]
    }
  ]
}