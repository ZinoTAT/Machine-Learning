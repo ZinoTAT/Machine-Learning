{
  "nbformat": 4,
  "nbformat_minor": 0,
  "metadata": {
    "colab": {
      "name": "损失函数和梯度.ipynb",
      "provenance": [],
      "authorship_tag": "ABX9TyN+Ew9VktHBiWzU8ptAB9r2",
      "include_colab_link": true
    },
    "kernelspec": {
      "name": "python3",
      "display_name": "Python 3"
    }
  },
  "cells": [
    {
      "cell_type": "markdown",
      "metadata": {
        "id": "view-in-github",
        "colab_type": "text"
      },
      "source": [
        "<a href=\"https://colab.research.google.com/github/ZinoTAT/Machine-Learning/blob/master/pytorch/%E6%8D%9F%E5%A4%B1%E5%87%BD%E6%95%B0%E5%92%8C%E6%A2%AF%E5%BA%A6.ipynb\" target=\"_parent\"><img src=\"https://colab.research.google.com/assets/colab-badge.svg\" alt=\"Open In Colab\"/></a>"
      ]
    },
    {
      "cell_type": "code",
      "metadata": {
        "id": "l0BcvDBPO7VG",
        "colab_type": "code",
        "colab": {
          "base_uri": "https://localhost:8080/",
          "height": 34
        },
        "outputId": "c58ee03d-7b32-4e68-d449-617fb2bf67fd"
      },
      "source": [
        "import torch\n",
        "import torch.nn.functional as F\n",
        "print(torch.__version__)"
      ],
      "execution_count": 1,
      "outputs": [
        {
          "output_type": "stream",
          "text": [
            "1.4.0\n"
          ],
          "name": "stdout"
        }
      ]
    },
    {
      "cell_type": "markdown",
      "metadata": {
        "id": "uE6xWyVyQt1z",
        "colab_type": "text"
      },
      "source": [
        "# MSE-均方根\n",
        "$$\n",
        "\\begin{aligned}\n",
        "loss=&\\sum [y - f_\\theta(x)]^2\\\\\n",
        "\\frac{\\partial loss}{\\partial \\theta}=&2\\sum [y-f_\\theta(x)]\\times \\frac{\\partial f_\\theta(x)}{\\partial\\theta}\n",
        "\\end{aligned}\n",
        "$$\n",
        "torch.nn.functional.mse_loss(predict, label)\n"
      ]
    },
    {
      "cell_type": "code",
      "metadata": {
        "id": "XhGsvbIuPkp4",
        "colab_type": "code",
        "colab": {}
      },
      "source": [
        "x = torch.ones(1)\n",
        "w = torch.full([1], 2).requires_grad_() #带下滑线的方法表示in-place，会直接对该张量进行修改\n",
        "mse = F.mse_loss(x * w, torch.ones(1))"
      ],
      "execution_count": 0,
      "outputs": []
    },
    {
      "cell_type": "markdown",
      "metadata": {
        "id": "itTd8v5PWGWC",
        "colab_type": "text"
      },
      "source": [
        "# autograd\n"
      ]
    },
    {
      "cell_type": "code",
      "metadata": {
        "id": "WSBxXvr0WMfC",
        "colab_type": "code",
        "colab": {
          "base_uri": "https://localhost:8080/",
          "height": 34
        },
        "outputId": "6fe7d071-d53e-4b84-8222-9c67c8fa54fd"
      },
      "source": [
        "mse = F.mse_loss(x * w, torch.ones(1))\n",
        "torch.autograd.grad(mse, [w])"
      ],
      "execution_count": 3,
      "outputs": [
        {
          "output_type": "execute_result",
          "data": {
            "text/plain": [
              "(tensor([2.]),)"
            ]
          },
          "metadata": {
            "tags": []
          },
          "execution_count": 3
        }
      ]
    },
    {
      "cell_type": "markdown",
      "metadata": {
        "id": "NtfTDX_tWRT5",
        "colab_type": "text"
      },
      "source": [
        "# backword\n",
        "进行反向传播，并将导数值记录在参数的.grad中"
      ]
    },
    {
      "cell_type": "code",
      "metadata": {
        "id": "-tTvz6z1WUdW",
        "colab_type": "code",
        "colab": {
          "base_uri": "https://localhost:8080/",
          "height": 34
        },
        "outputId": "6fa8ada9-08f0-4e80-8f39-8c277ae19f72"
      },
      "source": [
        "mse = F.mse_loss(x * w, torch.ones(1))\n",
        "mse.backward()\n",
        "w.grad"
      ],
      "execution_count": 4,
      "outputs": [
        {
          "output_type": "execute_result",
          "data": {
            "text/plain": [
              "tensor([2.])"
            ]
          },
          "metadata": {
            "tags": []
          },
          "execution_count": 4
        }
      ]
    },
    {
      "cell_type": "markdown",
      "metadata": {
        "id": "Ax4ENsudeUa8",
        "colab_type": "text"
      },
      "source": [
        "# softmax\n"
      ]
    },
    {
      "cell_type": "code",
      "metadata": {
        "id": "oOsL8F6BeXrx",
        "colab_type": "code",
        "colab": {
          "base_uri": "https://localhost:8080/",
          "height": 67
        },
        "outputId": "a8033bdc-6394-481a-c913-ab140ab1d179"
      },
      "source": [
        "a = torch.rand(3).requires_grad_()\n",
        "p = F.softmax(a, dim=0)\n",
        "print(a)\n",
        "print(p)\n",
        "\n",
        "torch.autograd.grad(p[1], [a], retain_graph=True)\n",
        "p[2].backward()\n",
        "print(a.grad)"
      ],
      "execution_count": 5,
      "outputs": [
        {
          "output_type": "stream",
          "text": [
            "tensor([0.6324, 0.9944, 0.6505], requires_grad=True)\n",
            "tensor([0.2895, 0.4158, 0.2948], grad_fn=<SoftmaxBackward>)\n",
            "tensor([-0.0853, -0.1226,  0.2079])\n"
          ],
          "name": "stdout"
        }
      ]
    },
    {
      "cell_type": "markdown",
      "metadata": {
        "id": "IXFdv2NeXADd",
        "colab_type": "text"
      },
      "source": [
        "# tips\n",
        "\n",
        "\n",
        "1.   当grad维度特别高时，可以通过打印.norm()来判断grad大小\n",
        "\n"
      ]
    },
    {
      "cell_type": "code",
      "metadata": {
        "id": "o0jkL4pNXTBa",
        "colab_type": "code",
        "colab": {
          "base_uri": "https://localhost:8080/",
          "height": 34
        },
        "outputId": "ea7a2f9e-5e95-474a-d449-fd71e2c317b2"
      },
      "source": [
        "a.grad.norm()"
      ],
      "execution_count": 6,
      "outputs": [
        {
          "output_type": "execute_result",
          "data": {
            "text/plain": [
              "tensor(0.2560)"
            ]
          },
          "metadata": {
            "tags": []
          },
          "execution_count": 6
        }
      ]
    }
  ]
}