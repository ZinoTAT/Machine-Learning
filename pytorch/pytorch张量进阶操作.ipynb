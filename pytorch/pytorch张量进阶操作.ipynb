{
  "nbformat": 4,
  "nbformat_minor": 0,
  "metadata": {
    "colab": {
      "name": "pytorch张量进阶操作.ipynb",
      "provenance": [],
      "toc_visible": true,
      "authorship_tag": "ABX9TyN/XFOI2AxvJfCafZArX0gK",
      "include_colab_link": true
    },
    "kernelspec": {
      "name": "python3",
      "display_name": "Python 3"
    }
  },
  "cells": [
    {
      "cell_type": "markdown",
      "metadata": {
        "id": "view-in-github",
        "colab_type": "text"
      },
      "source": [
        "<a href=\"https://colab.research.google.com/github/ZinoTAT/Machine-Learning-Practices/blob/master/pytorch/pytorch%E5%BC%A0%E9%87%8F%E8%BF%9B%E9%98%B6%E6%93%8D%E4%BD%9C.ipynb\" target=\"_parent\"><img src=\"https://colab.research.google.com/assets/colab-badge.svg\" alt=\"Open In Colab\"/></a>"
      ]
    },
    {
      "cell_type": "code",
      "metadata": {
        "id": "EOFxXw_5-1bO",
        "colab_type": "code",
        "outputId": "37b2c694-e87d-482a-9329-c38b7556decd",
        "colab": {
          "base_uri": "https://localhost:8080/",
          "height": 34
        }
      },
      "source": [
        "import torch\n",
        "print(torch.__version__)"
      ],
      "execution_count": 1,
      "outputs": [
        {
          "output_type": "stream",
          "text": [
            "1.4.0\n"
          ],
          "name": "stdout"
        }
      ]
    },
    {
      "cell_type": "markdown",
      "metadata": {
        "id": "leQ3ZdLK_E_P",
        "colab_type": "text"
      },
      "source": [
        ""
      ]
    },
    {
      "cell_type": "markdown",
      "metadata": {
        "id": "JzrusH9B_G5M",
        "colab_type": "text"
      },
      "source": [
        "# 张量的扩张"
      ]
    },
    {
      "cell_type": "markdown",
      "metadata": {
        "id": "pcEHv_2_V1jT",
        "colab_type": "text"
      },
      "source": [
        "## broadcast-免拷贝的自动扩展\n",
        "当参与运算的量张量尺寸不一致时，一般会自动进行broadcast"
      ]
    },
    {
      "cell_type": "code",
      "metadata": {
        "id": "J0xuLBq2EJs7",
        "colab_type": "code",
        "outputId": "6320872e-6a3f-4cc6-ff5d-07a35ebad183",
        "colab": {
          "base_uri": "https://localhost:8080/",
          "height": 151
        }
      },
      "source": [
        "x = torch.tensor([1, 2])\n",
        "y = torch.tensor([[-1], [-2]])\n",
        "print(x, y)\n",
        "x1, y1 = torch.broadcast_tensors(x, y)\n",
        "print(x1, y1)\n",
        "print(x + y)\n",
        "print(torch.all(torch.eq((x1 + y1), x + y)))"
      ],
      "execution_count": 2,
      "outputs": [
        {
          "output_type": "stream",
          "text": [
            "tensor([1, 2]) tensor([[-1],\n",
            "        [-2]])\n",
            "tensor([[1, 2],\n",
            "        [1, 2]]) tensor([[-1, -1],\n",
            "        [-2, -2]])\n",
            "tensor([[ 0,  1],\n",
            "        [-1,  0]])\n",
            "tensor(True)\n"
          ],
          "name": "stdout"
        }
      ]
    },
    {
      "cell_type": "markdown",
      "metadata": {
        "id": "nrzvrnFxV29z",
        "colab_type": "text"
      },
      "source": [
        "# 张量的拼接"
      ]
    },
    {
      "cell_type": "markdown",
      "metadata": {
        "id": "nNCIQBliUYul",
        "colab_type": "text"
      },
      "source": [
        "## cat-不增加维度的张量拼接\n",
        "torch.cat([tensor1, tensor2], dim=index)\\\n",
        "将张量进行拼接，除选择拼接的维度外其他维度必须保持一致"
      ]
    },
    {
      "cell_type": "code",
      "metadata": {
        "id": "TmtXcvnhUrpm",
        "colab_type": "code",
        "outputId": "22cc971a-71e5-4516-def3-a2ada8755033",
        "colab": {
          "base_uri": "https://localhost:8080/",
          "height": 34
        }
      },
      "source": [
        "x = torch.rand(4, 3, 32, 32)\n",
        "y = torch.rand(5, 3, 32, 32)\n",
        "print(torch.cat([x, y], dim=0).shape)"
      ],
      "execution_count": 3,
      "outputs": [
        {
          "output_type": "stream",
          "text": [
            "torch.Size([9, 3, 32, 32])\n"
          ],
          "name": "stdout"
        }
      ]
    },
    {
      "cell_type": "markdown",
      "metadata": {
        "id": "tdUuXbEZV-i5",
        "colab_type": "text"
      },
      "source": [
        "## stack-增加维度的张量拼接\n",
        "torch.stack([tensor1, tensor2], dim=index) \\\n",
        "进行拼接的两张量必须尺寸必须相同，拼接后在指定位置增加新的维度"
      ]
    },
    {
      "cell_type": "code",
      "metadata": {
        "id": "5nNtRv0aWZCk",
        "colab_type": "code",
        "outputId": "6853b8ef-b67c-4a0f-af81-56659c888eec",
        "colab": {
          "base_uri": "https://localhost:8080/",
          "height": 34
        }
      },
      "source": [
        "x = torch.rand(4, 3, 32, 32)\n",
        "y = torch.rand(4, 3, 32, 32)\n",
        "print(torch.stack([x, y], dim=0).shape)"
      ],
      "execution_count": 4,
      "outputs": [
        {
          "output_type": "stream",
          "text": [
            "torch.Size([2, 4, 3, 32, 32])\n"
          ],
          "name": "stdout"
        }
      ]
    },
    {
      "cell_type": "markdown",
      "metadata": {
        "id": "esLzB6NTYOHT",
        "colab_type": "text"
      },
      "source": [
        "# 张量的拆分"
      ]
    },
    {
      "cell_type": "markdown",
      "metadata": {
        "id": "UqA1y3mCYRR5",
        "colab_type": "text"
      },
      "source": [
        "## split-指定长度的拆分\n",
        "split(step, dim=index)\\\n",
        "指定一个固定长度，按找长度进行拆分\\\n",
        "split(list, dim=index)\\\n",
        "使用一个list指定每一段拆分的长度进行拆分"
      ]
    },
    {
      "cell_type": "code",
      "metadata": {
        "id": "TKz8ixEFYzak",
        "colab_type": "code",
        "outputId": "1fe46fc4-657e-4fa9-e99a-cea262ce85ea",
        "colab": {
          "base_uri": "https://localhost:8080/",
          "height": 252
        }
      },
      "source": [
        "a = torch.rand(9, 2)\n",
        "print(a.split(3, dim=0))\n",
        "print(a.split([2, 3, 4], dim=0))"
      ],
      "execution_count": 5,
      "outputs": [
        {
          "output_type": "stream",
          "text": [
            "(tensor([[0.2389, 0.9716],\n",
            "        [0.7806, 0.6587],\n",
            "        [0.1611, 0.8430]]), tensor([[0.8462, 0.3919],\n",
            "        [0.3506, 0.5595],\n",
            "        [0.9636, 0.1962]]), tensor([[0.8275, 0.5641],\n",
            "        [0.3590, 0.8612],\n",
            "        [0.9973, 0.9838]]))\n",
            "(tensor([[0.2389, 0.9716],\n",
            "        [0.7806, 0.6587]]), tensor([[0.1611, 0.8430],\n",
            "        [0.8462, 0.3919],\n",
            "        [0.3506, 0.5595]]), tensor([[0.9636, 0.1962],\n",
            "        [0.8275, 0.5641],\n",
            "        [0.3590, 0.8612],\n",
            "        [0.9973, 0.9838]]))\n"
          ],
          "name": "stdout"
        }
      ]
    },
    {
      "cell_type": "markdown",
      "metadata": {
        "id": "YCHCYeEoYyuK",
        "colab_type": "text"
      },
      "source": [
        "## chunk-指定个数的拆分\n",
        "chunk(num, dim=index)\\\n",
        "对指定维度拆分成num个新的张量\\\n",
        "在下面的例子中可以看到，当对长度为9的维度进行拆分，指定的拆分个数为4个时，拆分的结果为3个长度为3的张量，而非4个长度和为9的张量，因此我猜测这里拆分的机制应该是以step为单位对长度为len的维度进行拆分，当余下不足step时停止划分，其中step为(len / num)的值向上取整，也就是说：\\\n",
        "chunk(num, dim=index)的结果与split(math.ceil(len / num), dim=index)\\\n",
        "这同时意味着使用chunk划分时划分出的张量个数可能并非我们选择的参数num\n"
      ]
    },
    {
      "cell_type": "code",
      "metadata": {
        "id": "8E6gVyB_ahdd",
        "colab_type": "code",
        "outputId": "52c2228e-c687-4cf0-b7c7-7a177135f22f",
        "colab": {
          "base_uri": "https://localhost:8080/",
          "height": 252
        }
      },
      "source": [
        "a = torch.rand(9, 2)\n",
        "print(a.chunk(4, dim=0))\n",
        "print(a.chunk(3, dim=0))"
      ],
      "execution_count": 6,
      "outputs": [
        {
          "output_type": "stream",
          "text": [
            "(tensor([[0.5451, 0.6198],\n",
            "        [0.3198, 0.7075],\n",
            "        [0.4060, 0.9210]]), tensor([[0.5297, 0.8025],\n",
            "        [0.6964, 0.5388],\n",
            "        [0.3651, 0.3266]]), tensor([[0.3271, 0.5128],\n",
            "        [0.8730, 0.4198],\n",
            "        [0.7791, 0.7060]]))\n",
            "(tensor([[0.5451, 0.6198],\n",
            "        [0.3198, 0.7075],\n",
            "        [0.4060, 0.9210]]), tensor([[0.5297, 0.8025],\n",
            "        [0.6964, 0.5388],\n",
            "        [0.3651, 0.3266]]), tensor([[0.3271, 0.5128],\n",
            "        [0.8730, 0.4198],\n",
            "        [0.7791, 0.7060]]))\n"
          ],
          "name": "stdout"
        }
      ]
    },
    {
      "cell_type": "markdown",
      "metadata": {
        "id": "vy50vAtHaguJ",
        "colab_type": "text"
      },
      "source": [
        "# 张量的运算\n",
        "张量的加减运算调用函数方法和使用运算符的结果是一致的，但使用乘号时并不是张量的乘法运算，而是直接将两张量对应位置相乘"
      ]
    },
    {
      "cell_type": "markdown",
      "metadata": {
        "id": "E0YHiK-sTCQB",
        "colab_type": "text"
      },
      "source": [
        "## 张量的加减\n",
        "张量维度不一致时采用从最后一个维度向前对齐并自动broadcast"
      ]
    },
    {
      "cell_type": "code",
      "metadata": {
        "id": "mi1HskrrTBhL",
        "colab_type": "code",
        "colab": {
          "base_uri": "https://localhost:8080/",
          "height": 101
        },
        "outputId": "32d8de79-3cef-4b83-a39d-e42ed019d64b"
      },
      "source": [
        "a = torch.rand(3, 4)\n",
        "b = torch.rand(4)\n",
        "print(a + b)\n",
        "print(torch.all(torch.eq(a + b, torch.add(a, b))))\n",
        "print(torch.all(torch.eq(a - b, torch.sub(a, b))))"
      ],
      "execution_count": 7,
      "outputs": [
        {
          "output_type": "stream",
          "text": [
            "tensor([[1.4007, 0.9844, 1.2676, 0.3802],\n",
            "        [0.7733, 0.9243, 1.0007, 0.7836],\n",
            "        [0.9602, 1.3731, 0.5632, 0.6319]])\n",
            "tensor(True)\n",
            "tensor(True)\n"
          ],
          "name": "stdout"
        }
      ]
    },
    {
      "cell_type": "markdown",
      "metadata": {
        "id": "bSq-AIJzW9Dl",
        "colab_type": "text"
      },
      "source": [
        "## matmul-向量的乘法\n",
        "torch.mm可以对两个二维张量进行相乘操作\\\n",
        "torch.matmul可以对不少于二维的张量进行操作，对最后两维做乘法\\\n",
        "matmul等价于运算符@，不等价于运算符*"
      ]
    },
    {
      "cell_type": "code",
      "metadata": {
        "id": "ku9q7HR3XzxW",
        "colab_type": "code",
        "colab": {
          "base_uri": "https://localhost:8080/",
          "height": 67
        },
        "outputId": "6f832f28-1414-4503-9fa5-9b29d3dd0881"
      },
      "source": [
        "x = torch.rand(1, 2, 3)\n",
        "y = torch.rand(1, 3, 4)\n",
        "print(torch.matmul(x, y).shape)\n",
        "try:\n",
        "  x * y\n",
        "except RuntimeError:\n",
        "  print('failed')\n",
        "print(torch.all(torch.eq(torch.matmul(x, y), x@y)))"
      ],
      "execution_count": 8,
      "outputs": [
        {
          "output_type": "stream",
          "text": [
            "torch.Size([1, 2, 4])\n",
            "failed\n",
            "tensor(True)\n"
          ],
          "name": "stdout"
        }
      ]
    },
    {
      "cell_type": "markdown",
      "metadata": {
        "id": "Sxv5Y_QNmn9I",
        "colab_type": "text"
      },
      "source": [
        "## 幂、指数和对数\n",
        "幂操作可以使用pow()函数或这运算符 **\\\n",
        "指数使用torch.exp(),对数使用torch.log()、torch.log2()、torch.log10()"
      ]
    },
    {
      "cell_type": "code",
      "metadata": {
        "id": "WxJnKJNAYuVq",
        "colab_type": "code",
        "colab": {
          "base_uri": "https://localhost:8080/",
          "height": 101
        },
        "outputId": "2ce4711d-0d84-4e83-967f-3908ab32a366"
      },
      "source": [
        "a = torch.full([2, 3], 2)\n",
        "print(a)\n",
        "print(a.pow(2))\n",
        "print(torch.all(torch.eq(a.pow(3), a**3)))"
      ],
      "execution_count": 9,
      "outputs": [
        {
          "output_type": "stream",
          "text": [
            "tensor([[2., 2., 2.],\n",
            "        [2., 2., 2.]])\n",
            "tensor([[4., 4., 4.],\n",
            "        [4., 4., 4.]])\n",
            "tensor(True)\n"
          ],
          "name": "stdout"
        }
      ]
    },
    {
      "cell_type": "code",
      "metadata": {
        "id": "Y2ljBDC5n6Me",
        "colab_type": "code",
        "colab": {
          "base_uri": "https://localhost:8080/",
          "height": 151
        },
        "outputId": "35e0cbf1-2c34-4fd3-92ad-18be68966ffc"
      },
      "source": [
        "a = torch.full([2, 3], 3)\n",
        "print(torch.exp(a))\n",
        "print(torch.log(a))\n",
        "print(torch.log2(a))\n",
        "print(torch.log10(a))"
      ],
      "execution_count": 10,
      "outputs": [
        {
          "output_type": "stream",
          "text": [
            "tensor([[20.0855, 20.0855, 20.0855],\n",
            "        [20.0855, 20.0855, 20.0855]])\n",
            "tensor([[1.0986, 1.0986, 1.0986],\n",
            "        [1.0986, 1.0986, 1.0986]])\n",
            "tensor([[1.5850, 1.5850, 1.5850],\n",
            "        [1.5850, 1.5850, 1.5850]])\n",
            "tensor([[0.4771, 0.4771, 0.4771],\n",
            "        [0.4771, 0.4771, 0.4771]])\n"
          ],
          "name": "stdout"
        }
      ]
    },
    {
      "cell_type": "markdown",
      "metadata": {
        "id": "y962DSxhol74",
        "colab_type": "text"
      },
      "source": [
        "## clamp-张量的reLU操作"
      ]
    },
    {
      "cell_type": "code",
      "metadata": {
        "id": "U0vyUnproiqz",
        "colab_type": "code",
        "colab": {
          "base_uri": "https://localhost:8080/",
          "height": 151
        },
        "outputId": "bdc485b0-21b5-497e-f9f9-04c4fe599bee"
      },
      "source": [
        "grad = torch.rand(2, 3) * 10\n",
        "print(grad)\n",
        "print(grad.max())\n",
        "print(grad.median())\n",
        "print(grad.clamp(5))\n",
        "print(grad.clamp(5,7))"
      ],
      "execution_count": 11,
      "outputs": [
        {
          "output_type": "stream",
          "text": [
            "tensor([[1.2963, 4.1102, 8.6811],\n",
            "        [1.3078, 6.9858, 3.6912]])\n",
            "tensor(8.6811)\n",
            "tensor(3.6912)\n",
            "tensor([[5.0000, 5.0000, 8.6811],\n",
            "        [5.0000, 6.9858, 5.0000]])\n",
            "tensor([[5.0000, 5.0000, 7.0000],\n",
            "        [5.0000, 6.9858, 5.0000]])\n"
          ],
          "name": "stdout"
        }
      ]
    },
    {
      "cell_type": "markdown",
      "metadata": {
        "id": "UlX7ekbJrppz",
        "colab_type": "text"
      },
      "source": [
        "# 张量的属性统计"
      ]
    },
    {
      "cell_type": "markdown",
      "metadata": {
        "id": "EwDrWL9wsAE0",
        "colab_type": "text"
      },
      "source": [
        "## norm-范数计算\n",
        "norm(index, dim= )dim可省略"
      ]
    },
    {
      "cell_type": "code",
      "metadata": {
        "id": "J6ymacbNruEY",
        "colab_type": "code",
        "colab": {
          "base_uri": "https://localhost:8080/",
          "height": 34
        },
        "outputId": "4a52a212-2fc3-49ca-aa4c-7a9f6e170010"
      },
      "source": [
        "a = torch.full([2, 3], 1)\n",
        "print(a.norm(1), a.norm(2), a.norm(2, dim=1))"
      ],
      "execution_count": 12,
      "outputs": [
        {
          "output_type": "stream",
          "text": [
            "tensor(6.) tensor(2.4495) tensor([1.7321, 1.7321])\n"
          ],
          "name": "stdout"
        }
      ]
    },
    {
      "cell_type": "markdown",
      "metadata": {
        "id": "LwOYwSj4sd3W",
        "colab_type": "text"
      },
      "source": [
        "## mean,sum,max,min,prod\n"
      ]
    },
    {
      "cell_type": "code",
      "metadata": {
        "id": "0Gwm1VBRslNi",
        "colab_type": "code",
        "colab": {
          "base_uri": "https://localhost:8080/",
          "height": 118
        },
        "outputId": "f03eef04-0a5b-4892-8a90-d2611a32a38c"
      },
      "source": [
        "a = torch.arange(8).reshape(2, 4).float()\n",
        "print(a)\n",
        "print(a.mean(), a.sum(), a.max(dim=0), a.min())\n",
        "print(a.argmax(),a.argmin(dim=1))"
      ],
      "execution_count": 13,
      "outputs": [
        {
          "output_type": "stream",
          "text": [
            "tensor([[0., 1., 2., 3.],\n",
            "        [4., 5., 6., 7.]])\n",
            "tensor(3.5000) tensor(28.) torch.return_types.max(\n",
            "values=tensor([4., 5., 6., 7.]),\n",
            "indices=tensor([1, 1, 1, 1])) tensor(0.)\n",
            "tensor(7) tensor([0, 0])\n"
          ],
          "name": "stdout"
        }
      ]
    }
  ]
}