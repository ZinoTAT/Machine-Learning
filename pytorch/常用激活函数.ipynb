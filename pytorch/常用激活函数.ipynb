{
  "nbformat": 4,
  "nbformat_minor": 0,
  "metadata": {
    "colab": {
      "name": "常用激活函数.ipynb",
      "provenance": [],
      "authorship_tag": "ABX9TyPeYA0f4EYPG/HsEiyXwxWu",
      "include_colab_link": true
    },
    "kernelspec": {
      "name": "python3",
      "display_name": "Python 3"
    }
  },
  "cells": [
    {
      "cell_type": "markdown",
      "metadata": {
        "id": "view-in-github",
        "colab_type": "text"
      },
      "source": [
        "<a href=\"https://colab.research.google.com/github/ZinoTAT/Machine-Learning-Practices/blob/master/pytorch/%E5%B8%B8%E7%94%A8%E6%BF%80%E6%B4%BB%E5%87%BD%E6%95%B0.ipynb\" target=\"_parent\"><img src=\"https://colab.research.google.com/assets/colab-badge.svg\" alt=\"Open In Colab\"/></a>"
      ]
    },
    {
      "cell_type": "code",
      "metadata": {
        "id": "yGwevUDDKBSg",
        "colab_type": "code",
        "colab": {
          "base_uri": "https://localhost:8080/",
          "height": 34
        },
        "outputId": "29bbe396-3796-41c3-c392-b6a1d3983438"
      },
      "source": [
        "import torch \n",
        "import matplotlib.pyplot as plt\n",
        "print(torch.__version__)"
      ],
      "execution_count": 1,
      "outputs": [
        {
          "output_type": "stream",
          "text": [
            "1.4.0\n"
          ],
          "name": "stdout"
        }
      ]
    },
    {
      "cell_type": "markdown",
      "metadata": {
        "id": "3yhC1g62KRJu",
        "colab_type": "text"
      },
      "source": [
        "# sigmoid"
      ]
    },
    {
      "cell_type": "code",
      "metadata": {
        "id": "yNHtPPZGKUP0",
        "colab_type": "code",
        "colab": {
          "base_uri": "https://localhost:8080/",
          "height": 282
        },
        "outputId": "f286730c-7717-4a74-ff48-4bb62a8e73fb"
      },
      "source": [
        "a = torch.linspace(-10, 10, 100)\n",
        "fig,ax=plt.subplots(figsize=(12, 4))\n",
        "ax.plot(a, torch.sigmoid(a), \"r\")"
      ],
      "execution_count": 2,
      "outputs": [
        {
          "output_type": "execute_result",
          "data": {
            "text/plain": [
              "[<matplotlib.lines.Line2D at 0x7f8b6fef9e10>]"
            ]
          },
          "metadata": {
            "tags": []
          },
          "execution_count": 2
        },
        {
          "output_type": "display_data",
          "data": {
            "image/png": "[encoded data removed]",
            "text/plain": [
              "<Figure size 864x288 with 1 Axes>"
            ]
          },
          "metadata": {
            "tags": []
          }
        }
      ]
    },
    {
      "cell_type": "markdown",
      "metadata": {
        "id": "EvWRml6oKfgU",
        "colab_type": "text"
      },
      "source": [
        "# tanh"
      ]
    },
    {
      "cell_type": "code",
      "metadata": {
        "id": "XpbFMExtPVBN",
        "colab_type": "code",
        "colab": {
          "base_uri": "https://localhost:8080/",
          "height": 282
        },
        "outputId": "4a918b55-baec-4e33-c974-e1cba375cdd0"
      },
      "source": [
        "a = torch.linspace(-10, 10, 100)\n",
        "fig,ax=plt.subplots(figsize=(12, 4))\n",
        "ax.plot(a, torch.tanh(a), \"r\")"
      ],
      "execution_count": 3,
      "outputs": [
        {
          "output_type": "execute_result",
          "data": {
            "text/plain": [
              "[<matplotlib.lines.Line2D at 0x7f8b6fed2f28>]"
            ]
          },
          "metadata": {
            "tags": []
          },
          "execution_count": 3
        },
        {
          "output_type": "display_data",
          "data": {
            "image/png": "[encoded data removed]",
            "text/plain": [
              "<Figure size 864x288 with 1 Axes>"
            ]
          },
          "metadata": {
            "tags": []
          }
        }
      ]
    },
    {
      "cell_type": "markdown",
      "metadata": {
        "id": "jkAPdisbPw1W",
        "colab_type": "text"
      },
      "source": [
        "# relu"
      ]
    },
    {
      "cell_type": "code",
      "metadata": {
        "id": "xng3HDNKP1XR",
        "colab_type": "code",
        "colab": {
          "base_uri": "https://localhost:8080/",
          "height": 282
        },
        "outputId": "3f0d3f33-e26a-48a9-9976-f1e94786f89a"
      },
      "source": [
        "a = torch.linspace(-10, 10, 50)\n",
        "fig,ax=plt.subplots(figsize=(12, 4))\n",
        "ax.plot(a, torch.relu(a), \"r\")"
      ],
      "execution_count": 4,
      "outputs": [
        {
          "output_type": "execute_result",
          "data": {
            "text/plain": [
              "[<matplotlib.lines.Line2D at 0x7f8b6f9bf2e8>]"
            ]
          },
          "metadata": {
            "tags": []
          },
          "execution_count": 4
        },
        {
          "output_type": "display_data",
          "data": {
            "image/png": "[encoded data removed]",
            "text/plain": [
              "<Figure size 864x288 with 1 Axes>"
            ]
          },
          "metadata": {
            "tags": []
          }
        }
      ]
    }
  ]
}