{
  "nbformat": 4,
  "nbformat_minor": 0,
  "metadata": {
    "colab": {
      "name": "三层全连接-交叉熵分类MNIST数据集.ipynb",
      "provenance": [],
      "authorship_tag": "ABX9TyOqEAjZiLmTj2VCAD64nSTp",
      "include_colab_link": true
    },
    "kernelspec": {
      "name": "python3",
      "display_name": "Python 3"
    }
  },
  "cells": [
    {
      "cell_type": "markdown",
      "metadata": {
        "id": "view-in-github",
        "colab_type": "text"
      },
      "source": [
        "<a href=\"https://colab.research.google.com/github/ZinoTAT/Machine-Learning/blob/master/pytorch/practices/%E4%B8%89%E5%B1%82%E5%85%A8%E8%BF%9E%E6%8E%A5_%E4%BA%A4%E5%8F%89%E7%86%B5%E5%88%86%E7%B1%BBMNIST%E6%95%B0%E6%8D%AE%E9%9B%86.ipynb\" target=\"_parent\"><img src=\"https://colab.research.google.com/assets/colab-badge.svg\" alt=\"Open In Colab\"/></a>"
      ]
    },
    {
      "cell_type": "code",
      "metadata": {
        "id": "3meSqAWKFOVp",
        "colab_type": "code",
        "colab": {
          "base_uri": "https://localhost:8080/",
          "height": 34
        },
        "outputId": "7b6ba86c-2d3f-4112-ef46-93c7a490e05b"
      },
      "source": [
        "import torch \n",
        "import torch.nn.functional as F\n",
        "import torch.nn as nn\n",
        "import torch.optim as optim\n",
        "from torchvision import datasets, transforms\n",
        "print(torch.__version__)"
      ],
      "execution_count": 1,
      "outputs": [
        {
          "output_type": "stream",
          "text": [
            "1.4.0\n"
          ],
          "name": "stdout"
        }
      ]
    },
    {
      "cell_type": "code",
      "metadata": {
        "id": "DT_bUQsvKCoF",
        "colab_type": "code",
        "colab": {}
      },
      "source": [
        "batch_size = 200\n",
        "learning_rate=0.01\n",
        "epochs = 20"
      ],
      "execution_count": 0,
      "outputs": []
    },
    {
      "cell_type": "code",
      "metadata": {
        "id": "9wK046NnKKbc",
        "colab_type": "code",
        "colab": {}
      },
      "source": [
        "train_loader = torch.utils.data.DataLoader(\n",
        "    datasets.MNIST('../data', train=True, download=True, transform=transforms.Compose([\n",
        "            transforms.ToTensor(),\n",
        "            transforms.Normalize((0.1307,), (0.3081,))\n",
        "    ])),\n",
        "    batch_size=batch_size, shuffle=True\n",
        ")\n",
        "test_loader = torch.utils.data.DataLoader(\n",
        "    datasets.MNIST('../data', train=False, transform=transforms.Compose([\n",
        "            transforms.ToTensor(),\n",
        "            transforms.Normalize((0.1307,), (0.3081,))\n",
        "    ])),\n",
        "    batch_size=batch_size, shuffle=True\n",
        ")"
      ],
      "execution_count": 0,
      "outputs": []
    },
    {
      "cell_type": "code",
      "metadata": {
        "id": "Xf5E44qpGek5",
        "colab_type": "code",
        "colab": {}
      },
      "source": [
        "w1, b1 = torch.randn(200, 784, requires_grad=True), torch.zeros(200, requires_grad=True)\n",
        "w2, b2 = torch.randn(200, 200, requires_grad=True), torch.zeros(200, requires_grad=True)\n",
        "w3, b3 = torch.randn(10, 200, requires_grad=True), torch.zeros(10, requires_grad=True)"
      ],
      "execution_count": 0,
      "outputs": []
    },
    {
      "cell_type": "code",
      "metadata": {
        "id": "ZTkrWgUsMtmw",
        "colab_type": "code",
        "colab": {
          "base_uri": "https://localhost:8080/",
          "height": 151
        },
        "outputId": "4fac61be-7414-405a-8132-07f08717f1b4"
      },
      "source": [
        "torch.nn.init.kaiming_normal_(w1)\n",
        "torch.nn.init.kaiming_normal_(w2)\n",
        "torch.nn.init.kaiming_normal_(w3)"
      ],
      "execution_count": 5,
      "outputs": [
        {
          "output_type": "execute_result",
          "data": {
            "text/plain": [
              "tensor([[-0.0368,  0.0619,  0.0920,  ...,  0.0756, -0.0196,  0.0357],\n",
              "        [-0.0018, -0.0322,  0.0585,  ...,  0.0138, -0.0077, -0.0032],\n",
              "        [ 0.0566,  0.2838, -0.0384,  ...,  0.2189,  0.1972, -0.0895],\n",
              "        ...,\n",
              "        [ 0.0379,  0.0051,  0.1132,  ...,  0.1177,  0.1181, -0.0123],\n",
              "        [ 0.0868, -0.2540,  0.0282,  ...,  0.0215,  0.0964, -0.0783],\n",
              "        [-0.0201,  0.0847,  0.0603,  ..., -0.0363, -0.1569, -0.1010]],\n",
              "       requires_grad=True)"
            ]
          },
          "metadata": {
            "tags": []
          },
          "execution_count": 5
        }
      ]
    },
    {
      "cell_type": "code",
      "metadata": {
        "id": "jcPLnSOoItaF",
        "colab_type": "code",
        "colab": {}
      },
      "source": [
        "def forward(x):\n",
        "  x = x@w1.t() + b1\n",
        "  x = F.relu(x)\n",
        "  x = x@w2.t() + b2\n",
        "  x = F.relu(x)\n",
        "  x = x@w3.t() + b3\n",
        "  x = F.relu(x)\n",
        "  return x"
      ],
      "execution_count": 0,
      "outputs": []
    },
    {
      "cell_type": "code",
      "metadata": {
        "id": "gatsfGFhJGUk",
        "colab_type": "code",
        "colab": {}
      },
      "source": [
        "optimizer = optim.SGD([w1, b1, w2, b2, w3, b3], lr=1e-3)\n",
        "criteon = nn.CrossEntropyLoss()\n"
      ],
      "execution_count": 0,
      "outputs": []
    },
    {
      "cell_type": "code",
      "metadata": {
        "id": "u6SbOtPbNd3T",
        "colab_type": "code",
        "colab": {
          "base_uri": "https://localhost:8080/",
          "height": 689
        },
        "outputId": "a71af4c0-6a0b-4715-b9f0-8a4b7d7f7bf2"
      },
      "source": [
        "for epoch in range(epochs):\n",
        "  for batch_idx, (data, target) in enumerate(train_loader):\n",
        "    data = data.reshape(-1, 28 * 28)\n",
        "    logits = forward(data)\n",
        "    loss = criteon(logits, target)\n",
        "    \n",
        "    optimizer.zero_grad()\n",
        "    loss.backward()\n",
        "    optimizer.step()\n",
        "  test_loss = 0\n",
        "  correct = 0\n",
        "  for data, target in test_loader:\n",
        "    data = data.view(-1, 28 * 28)\n",
        "    logits = forward(data)\n",
        "    test_loss += criteon(logits, target).item()\n",
        "    pred = logits.data.max(1)[1]\n",
        "    correct += pred.eq(target.data).sum()\n",
        "  test_loss /= len(test_loader.dataset)\n",
        "  print('epoch:{}\\ntest loss={},correct:{}'.format(epoch, test_loss, float(correct) / float(len(test_loader) * test_loader.batch_size)))\n",
        "    "
      ],
      "execution_count": 8,
      "outputs": [
        {
          "output_type": "stream",
          "text": [
            "epoch:0\n",
            "test loss=0.006546663796901703,correct:0.6333\n",
            "epoch:1\n",
            "test loss=0.004843053466081619,correct:0.739\n",
            "epoch:2\n",
            "test loss=0.004126278191804886,correct:0.7726\n",
            "epoch:3\n",
            "test loss=0.003717527782917023,correct:0.789\n",
            "epoch:4\n",
            "test loss=0.003443898642063141,correct:0.8019\n",
            "epoch:5\n",
            "test loss=0.003245606005191803,correct:0.81\n",
            "epoch:6\n",
            "test loss=0.0030957883596420288,correct:0.8155\n",
            "epoch:7\n",
            "test loss=0.002976664373278618,correct:0.8218\n",
            "epoch:8\n",
            "test loss=0.002868572762608528,correct:0.8278\n",
            "epoch:9\n",
            "test loss=0.002339117419719696,correct:0.8693\n",
            "epoch:10\n",
            "test loss=0.0020532934963703154,correct:0.8839\n",
            "epoch:11\n",
            "test loss=0.0019044734299182892,correct:0.891\n",
            "epoch:12\n",
            "test loss=0.0018016127929091454,correct:0.897\n",
            "epoch:13\n",
            "test loss=0.0017234941720962525,correct:0.9028\n",
            "epoch:14\n",
            "test loss=0.0016610551953315734,correct:0.9057\n",
            "epoch:15\n",
            "test loss=0.0016078640595078469,correct:0.9082\n",
            "epoch:16\n",
            "test loss=0.0015614251136779785,correct:0.9111\n",
            "epoch:17\n",
            "test loss=0.001520815262198448,correct:0.9138\n",
            "epoch:18\n",
            "test loss=0.0014854590058326722,correct:0.916\n",
            "epoch:19\n",
            "test loss=0.0014525436207652091,correct:0.9179\n"
          ],
          "name": "stdout"
        }
      ]
    }
  ]
}