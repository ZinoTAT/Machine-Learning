{
  "nbformat": 4,
  "nbformat_minor": 0,
  "metadata": {
    "colab": {
      "name": "resnet模型实现.ipynb",
      "provenance": [],
      "authorship_tag": "ABX9TyODbatWOASi6zaB5WvVdbdN",
      "include_colab_link": true
    },
    "kernelspec": {
      "name": "python3",
      "display_name": "Python 3"
    }
  },
  "cells": [
    {
      "cell_type": "markdown",
      "metadata": {
        "id": "view-in-github",
        "colab_type": "text"
      },
      "source": [
        "<a href=\"https://colab.research.google.com/github/ZinoTAT/Machine-Learning/blob/master/pytorch/practices/resnet%E6%A8%A1%E5%9E%8B%E5%AE%9E%E7%8E%B0.ipynb\" target=\"_parent\"><img src=\"https://colab.research.google.com/assets/colab-badge.svg\" alt=\"Open In Colab\"/></a>"
      ]
    },
    {
      "cell_type": "code",
      "metadata": {
        "id": "zmexuRrDoMz9",
        "colab_type": "code",
        "colab": {
          "base_uri": "https://localhost:8080/",
          "height": 34
        },
        "outputId": "84526de4-1ce6-48c2-f807-490484e75f0a"
      },
      "source": [
        "import torch\n",
        "import torch.nn as nn\n",
        "print(torch.__version__)"
      ],
      "execution_count": 2,
      "outputs": [
        {
          "output_type": "stream",
          "text": [
            "1.4.0\n"
          ],
          "name": "stdout"
        }
      ]
    },
    {
      "cell_type": "markdown",
      "metadata": {
        "id": "Fvtsdm74og0d",
        "colab_type": "text"
      },
      "source": [
        "为方便后续使用，封装一下接下来将要使用的3 * 3卷积和1 * 1卷积"
      ]
    },
    {
      "cell_type": "code",
      "metadata": {
        "id": "kyPJzYQjoWDk",
        "colab_type": "code",
        "colab": {}
      },
      "source": [
        "def conv3x3(in_channels, out_channels, stride=1, padding=1):\n",
        "  return nn.Conv2d(in_channels, out_channels, kernel_size=3, stride=stride, padding=padding, bias=False) #bias设置为false是为了在有bn层的情况下节省参数\n",
        "def conv1x1(in_channels, out_channels, stride=1, padding=0):\n",
        "  return nn.Conv2d(in_channels, out_channels, kernel_size=1, stride=stride, padding=padding, bias=False) #bias设置为false是为了在有bn层的情况下节省参数"
      ],
      "execution_count": 0,
      "outputs": []
    },
    {
      "cell_type": "markdown",
      "metadata": {
        "id": "4-ZVnzkC5dTL",
        "colab_type": "text"
      },
      "source": [
        "![resnet](https://github.com/ZinoTAT/Machine-Learning/blob/master/images/resnet.png?raw=true)"
      ]
    },
    {
      "cell_type": "code",
      "metadata": {
        "id": "AMc-fuPeq3v1",
        "colab_type": "code",
        "colab": {}
      },
      "source": [
        "class BasicBlock(nn.Module):\n",
        "  expansion = 1\n",
        "\n",
        "  def __init__(self, in_channels, out_channels, stride=1, downsample=None, norm_layer=None):\n",
        "    super(BasicBlock, self).__init__()\n",
        "    if norm_layer is None:\n",
        "      norm_layer = nn.BatchNorm2d\n",
        "    self.conv1 = conv3x3(in_channels, out_channels, stride)\n",
        "    self.bn1 = norm_layer(out_channels)\n",
        "    self.relu = nn.ReLU(inplace=True)\n",
        "    self.conv2 = conv3x3(out_channels, out_channels, stride)\n",
        "    self.bn2 = norm_layer(out_channels)\n",
        "    self.downsample = downsample\n",
        "    self.stride = stride\n",
        "  def forward(self, x):\n",
        "    identity = x\n",
        "\n",
        "    x = self.conv1(x)\n",
        "    x = self.bn1(x)\n",
        "    x = self.relu(x)\n",
        "\n",
        "    x = self.conv2(x)\n",
        "    x = self.bn2(x)\n",
        "\n",
        "    if self.downsample is not None:\n",
        "      identity = self.downsample(identity) #如果输入的x和输出的x存在维度变换，则要先将维度进行统一再相加\n",
        "\n",
        "    x += identity\n",
        "    x = self.relu(x)\n",
        "\n",
        "    return x"
      ],
      "execution_count": 0,
      "outputs": []
    },
    {
      "cell_type": "code",
      "metadata": {
        "id": "iSHKnC3Hxv4F",
        "colab_type": "code",
        "colab": {}
      },
      "source": [
        "class BottleBlock(nn.Module):\n",
        "  expansion = 4\n",
        "\n",
        "  def __init__(self, in_channels, out_channels, stride=1, downsample=None, norm_layer=None):\n",
        "    super(BottleBlock, self).__init__()\n",
        "    if norm_layer is None:\n",
        "      norm_layer = nn.BatchNorm2d\n",
        "    self.conv1 = conv1x1(in_channels, out_channels)\n",
        "    self.bn1 = norm_layer(out_channels)\n",
        "    self.conv2 = conv3x3(out_channels, out_channels, stride=stride)\n",
        "    self.bn2 = norm_layer(out_channels)\n",
        "    self.conv3 = conv1x1(out_channels, out_channels)\n",
        "    self.bn3 = norm_layer(out_channels)\n",
        "    self.relu = nn.ReLU(inplace=True)\n",
        "    self.downsample = downsample\n",
        "    self.stride = stride\n",
        "  def forward(self, x):\n",
        "    identity = x\n",
        "\n",
        "    x = self.conv1(x)\n",
        "    x = self.bn1(x)\n",
        "    x = self.relu(x)\n",
        "\n",
        "    x = self.conv2(x)\n",
        "    x = self.bn2(x)\n",
        "    x = self.relu(x)\n",
        "\n",
        "    x = self.conv3(x)\n",
        "    x = self.bn3(x)\n",
        "    \n",
        "    if self.downsample is not None:\n",
        "      identity = self.downsample(identity)\n",
        "    \n",
        "    x += identity\n",
        "    x = self.relu(x)\n",
        "\n",
        "    return x\n"
      ],
      "execution_count": 0,
      "outputs": []
    },
    {
      "cell_type": "code",
      "metadata": {
        "id": "RrcGflVWw7HJ",
        "colab_type": "code",
        "colab": {
          "base_uri": "https://localhost:8080/",
          "height": 34
        },
        "outputId": "febf2ffe-9ab0-4998-82eb-63d78872fe4b"
      },
      "source": [
        "def f(x):\n",
        "  return x.repeat(1, 2, 1, 1)\n",
        "BB1 = BottleBlock(5, 5)\n",
        "x = torch.randn([5, 5, 5, 5])\n",
        "y = BB1(x)\n",
        "print(y.shape)"
      ],
      "execution_count": 22,
      "outputs": [
        {
          "output_type": "stream",
          "text": [
            "torch.Size([5, 5, 5, 5])\n"
          ],
          "name": "stdout"
        }
      ]
    }
  ]
}