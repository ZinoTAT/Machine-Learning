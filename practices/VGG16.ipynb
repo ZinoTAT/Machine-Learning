{
  "nbformat": 4,
  "nbformat_minor": 0,
  "metadata": {
    "colab": {
      "name": "Logistics Regression.ipynb",
      "provenance": [],
      "authorship_tag": "ABX9TyPCV4nUX4NFyZkVXlQJaYE1",
      "include_colab_link": true
    },
    "kernelspec": {
      "name": "python3",
      "display_name": "Python 3"
    }
  },
  "cells": [
    {
      "cell_type": "markdown",
      "metadata": {
        "id": "view-in-github",
        "colab_type": "text"
      },
      "source": [
        "<a href=\"https://colab.research.google.com/github/ZinoTAT/Machine-Learning-Practices/blob/master/practices/VGG16.ipynb\" target=\"_parent\"><img src=\"https://colab.research.google.com/assets/colab-badge.svg\" alt=\"Open In Colab\"/></a>"
      ]
    },
    {
      "cell_type": "markdown",
      "metadata": {
        "id": "NfKd-anN12RF",
        "colab_type": "text"
      },
      "source": [
        "VGG16小练习，pytorch实现\n",
        "参考样例：[TRAINING A CLASSIFIER](https://pytorch.org/tutorials/beginner/blitz/cifar10_tutorial.html#sphx-glr-beginner-blitz-cifar10-tutorial-py)\n",
        "\n"
      ]
    },
    {
      "cell_type": "code",
      "metadata": {
        "id": "8a8ZISAO2JCx",
        "colab_type": "code",
        "outputId": "84d40551-34ed-49fd-83fb-c96777635750",
        "colab": {
          "base_uri": "https://localhost:8080/",
          "height": 34
        }
      },
      "source": [
        "from __future__ import absolute_import, division, print_function, unicode_literals\n",
        "\n",
        "import torch\n",
        "import torchvision as tv\n",
        "import torchvision.transforms as transforms\n",
        "\n",
        "import numpy as np\n",
        "import matplotlib.pyplot as plt\n",
        "\n",
        "print(\"torch_version\",torch.__version__)"
      ],
      "execution_count": 6,
      "outputs": [
        {
          "output_type": "stream",
          "text": [
            "torch_version 1.3.1\n"
          ],
          "name": "stdout"
        }
      ]
    },
    {
      "cell_type": "code",
      "metadata": {
        "id": "5XbfB7Tt_0Zx",
        "colab_type": "code",
        "colab": {}
      },
      "source": [
        "class VGG16(torch.nn.Module):\n",
        "  def __init__(self, n_class=9, h=128, w = 128):\n",
        "    super(VGG16, self).__init__()\n",
        "    self.ReLU = torch.nn.ReLU(inplace=True)\n",
        "    self.MaxPool = torch.nn.MaxPool2d(2, stride=2, ceil_mode=True)\n",
        "    #第一层\n",
        "    self.conv1_1 = torch.nn.Conv2d(3, 64, 3, padding=1)\n",
        "    self.conv1_2 = torch.nn.Conv2d(64, 64, 3, padding=1)\n",
        "    \n",
        "    #第二层\n",
        "    self.conv2_1 = torch.nn.Conv2d(64, 128, 3, padding=1)\n",
        "    self.conv2_2 = torch.nn.Conv2d(128, 128, 3, padding=1)\n",
        "\n",
        "    #第三层\n",
        "    self.conv3_1 = torch.nn.Conv2d(128, 256, 3, padding=1)\n",
        "    self.conv3_2 = torch.nn.Conv2d(256, 256, 3, padding=1)\n",
        "    self.conv3_3 = torch.nn.Conv2d(256, 256, 3, padding=1)\n",
        "\n",
        "    #第四层\n",
        "    self.conv4_1 = torch.nn.Conv2d(256, 512, 3, padding=1)\n",
        "    self.conv4_2 = torch.nn.Conv2d(512, 512, 3, padding=1)\n",
        "    self.conv4_3 = torch.nn.Conv2d(512, 512, 3, padding=1)\n",
        "\n",
        "    #第五层\n",
        "    self.conv5_1 = torch.nn.Conv2d(256, 512, 3, padding=1)\n",
        "    self.conv5_2 = torch.nn.Conv2d(512, 512, 3, padding=1)\n",
        "    self.conv5_3 = torch.nn.Conv2d(512, 512, 3, padding=1)\n",
        "\n",
        "    #全连接层\n",
        "    self.Linear1 = torch.nn.Linear((h * w) / (32 * 32) * 512, 4096)\n",
        "    self.Linear2 = torch.nn.Linear(4096, 4096)\n",
        "    self.Linear3 = torch.nn.Linear(4096, 1000)\n",
        "    \n",
        "    #softmax\n",
        "    self.output = torch.nn.Linear(1000, n_class)\n",
        "    self.softmax = torch.nn.softmax(n_class)\n",
        "  def forward(self, x):\n",
        "    h = self.ReLU(self.conv1_1(x))\n",
        "    h = self.ReLU(self.conv1_2(h))\n",
        "    h = self.MaxPool(h)\n",
        "\n",
        "    h = self.ReLU(self.conv2_1(h))\n",
        "    h = self.ReLU(self.conv2_2(h))\n",
        "    h = self.MaxPool(h)\n",
        "\n",
        "    h = self.ReLU(self.conv3_1(h))\n",
        "    h = self.ReLU(self.conv3_2(h))\n",
        "    h = self.ReLU(self.conv3_3(h))\n",
        "    h = self.MaxPool(h)\n",
        "\n",
        "    h = self.ReLU(self.conv4_1(h))\n",
        "    h = self.ReLU(self.conv4_2(h))\n",
        "    h = self.ReLU(self.conv4_3(h))\n",
        "    h = self.MaxPool(h)\n",
        "\n",
        "    h = self.ReLU(self.conv5_1(h))\n",
        "    h = self.ReLU(self.conv5_2(h))\n",
        "    h = self.ReLU(self.conv5_3(h))\n",
        "    h = self.MaxPool(h)\n",
        "\n",
        "    h = self.ReLU(self.Linear1(h))\n",
        "    h = self.ReLU(self.Linear2(h))\n",
        "    h = self.ReLU(self.Linear3(h))\n",
        "\n",
        "    h = self.softmax(h)\n",
        "    return h\n",
        "\n"
      ],
      "execution_count": 0,
      "outputs": []
    },
    {
      "cell_type": "code",
      "metadata": {
        "id": "sl8pBB81Q98h",
        "colab_type": "code",
        "outputId": "11263d07-cf07-4c7c-c7f5-c0f136dfed9e",
        "colab": {
          "base_uri": "https://localhost:8080/",
          "height": 84
        }
      },
      "source": [
        "module = VGG16\n",
        "transform = transforms.Compose(\n",
        "    [transforms.ToTensor(),\n",
        "     transforms.Normalize((0.5, 0.5, 0.5), (0.5, 0.5, 0.5))])\n",
        "\n",
        "trainset = tv.datasets.CIFAR10(root='./data', train=True, download=True, transform=transform)\n",
        "trainloader = torch.utils.data.DataLoader(trainset, batch_size=4, shuffle=True, num_workers=2)\n",
        "\n",
        "testset = tv.datasets.CIFAR10(root='./data', train=False, download=True, transform=transform)\n",
        "testloader = torch.utils.data.DataLoader(testset, batch_size=4, shuffle=False, num_workers=2)\n",
        "\n",
        "classes = ('plane', 'car', 'bird', 'cat', 'deer', 'dog', 'frog', 'horse', 'ship', 'truck')"
      ],
      "execution_count": 8,
      "outputs": [
        {
          "output_type": "stream",
          "text": [
            "  0%|          | 0/170498071 [00:00<?, ?it/s]"
          ],
          "name": "stderr"
        },
        {
          "output_type": "stream",
          "text": [
            "Downloading https://www.cs.toronto.edu/~kriz/cifar-10-python.tar.gz to ./data/cifar-10-python.tar.gz\n"
          ],
          "name": "stdout"
        },
        {
          "output_type": "stream",
          "text": [
            "170500096it [00:01, 89347787.15it/s]                               \n"
          ],
          "name": "stderr"
        },
        {
          "output_type": "stream",
          "text": [
            "Extracting ./data/cifar-10-python.tar.gz to ./data\n",
            "Files already downloaded and verified\n"
          ],
          "name": "stdout"
        }
      ]
    },
    {
      "cell_type": "markdown",
      "metadata": {
        "id": "fCQR1Liv_fTv",
        "colab_type": "text"
      },
      "source": [
        "打印以小组图出来看看"
      ]
    },
    {
      "cell_type": "code",
      "metadata": {
        "id": "TG3DWeMRUrw7",
        "colab_type": "code",
        "outputId": "a511015f-fab0-436a-8abd-4cf8ebfe1abb",
        "colab": {
          "base_uri": "https://localhost:8080/",
          "height": 155
        }
      },
      "source": [
        "def imshow(img):\n",
        "    img = img / 2 + 0.5     # unnormalize\n",
        "    npimg = img.numpy()\n",
        "    plt.imshow(np.transpose(npimg, (1, 2, 0)))\n",
        "    plt.show()\n",
        "\n",
        "\n",
        "# get some random training images\n",
        "dataiter = iter(trainloader)\n",
        "images, labels = dataiter.next()\n",
        "\n",
        "# show images\n",
        "imshow(tv.utils.make_grid(images))\n",
        "# print labels\n",
        "print(' '.join('%5s' % classes[labels[j]] for j in range(4)))"
      ],
      "execution_count": 10,
      "outputs": [
        {
          "output_type": "display_data",
          "data": {
            "image/png": "[encoded data removed]",
            "text/plain": [
              "<Figure size 432x288 with 1 Axes>"
            ]
          },
          "metadata": {
            "tags": []
          }
        },
        {
          "output_type": "stream",
          "text": [
            " bird  ship truck   car\n"
          ],
          "name": "stdout"
        }
      ]
    },
    {
      "cell_type": "code",
      "metadata": {
        "id": "KlcPcThp-5aK",
        "colab_type": "code",
        "colab": {}
      },
      "source": [
        "def train(data, module, criterion, optimizer, epoch):\n",
        "  for i in range(epoch):\n",
        "    running_loss = 0.0\n",
        "    for i, data in enumerate(trainloader, 0):\n",
        "      # get the inputs; data is a list of [inputs, labels]\n",
        "      inputs, labels = data\n",
        "\n",
        "      # zero the parameter gradients\n",
        "      optimizer.zero_grad()\n",
        "\n",
        "      # forward + backward + optimize\n",
        "      outputs = module(inputs)\n",
        "      loss = criterion(outputs, labels)\n",
        "      loss.backward()\n",
        "      optimizer.step()\n",
        "\n",
        "      # print statistics\n",
        "      running_loss += loss.item()\n",
        "      if i % 2000 == 1999:    # print every 2000 mini-batches\n",
        "          print('[%d, %5d] loss: %.3f' % (epoch + 1, i + 1, running_loss / 2000))\n",
        "          running_loss = 0.0\n",
        "\n",
        "    \n"
      ],
      "execution_count": 0,
      "outputs": []
    },
    {
      "cell_type": "markdown",
      "metadata": {
        "id": "X28F7TWaAue8",
        "colab_type": "text"
      },
      "source": [
        "定义损失函数和优化方式"
      ]
    },
    {
      "cell_type": "code",
      "metadata": {
        "id": "yG5AOhpAAtgp",
        "colab_type": "code",
        "colab": {
          "base_uri": "https://localhost:8080/",
          "height": 198
        },
        "outputId": "d7879913-ba70-4bfa-b9a9-f6d4cecb2776"
      },
      "source": [
        "import torch.optim as optim\n",
        "\n",
        "criterion = torch.nn.CrossEntropyLoss()\n",
        "optimizer = optim.SGD(module.self, lr=0.001, momentum=0.9)"
      ],
      "execution_count": 23,
      "outputs": [
        {
          "output_type": "error",
          "ename": "AttributeError",
          "evalue": "ignored",
          "traceback": [
            "\u001b[0;31m---------------------------------------------------------------------------\u001b[0m",
            "\u001b[0;31mAttributeError\u001b[0m                            Traceback (most recent call last)",
            "\u001b[0;32m<ipython-input-23-2414c773b187>\u001b[0m in \u001b[0;36m<module>\u001b[0;34m()\u001b[0m\n\u001b[1;32m      2\u001b[0m \u001b[0;34m\u001b[0m\u001b[0m\n\u001b[1;32m      3\u001b[0m \u001b[0mcriterion\u001b[0m \u001b[0;34m=\u001b[0m \u001b[0mtorch\u001b[0m\u001b[0;34m.\u001b[0m\u001b[0mnn\u001b[0m\u001b[0;34m.\u001b[0m\u001b[0mCrossEntropyLoss\u001b[0m\u001b[0;34m(\u001b[0m\u001b[0;34m)\u001b[0m\u001b[0;34m\u001b[0m\u001b[0;34m\u001b[0m\u001b[0m\n\u001b[0;32m----> 4\u001b[0;31m \u001b[0moptimizer\u001b[0m \u001b[0;34m=\u001b[0m \u001b[0moptim\u001b[0m\u001b[0;34m.\u001b[0m\u001b[0mSGD\u001b[0m\u001b[0;34m(\u001b[0m\u001b[0mmodule\u001b[0m\u001b[0;34m.\u001b[0m\u001b[0mself\u001b[0m\u001b[0;34m,\u001b[0m \u001b[0mlr\u001b[0m\u001b[0;34m=\u001b[0m\u001b[0;36m0.001\u001b[0m\u001b[0;34m,\u001b[0m \u001b[0mmomentum\u001b[0m\u001b[0;34m=\u001b[0m\u001b[0;36m0.9\u001b[0m\u001b[0;34m)\u001b[0m\u001b[0;34m\u001b[0m\u001b[0;34m\u001b[0m\u001b[0m\n\u001b[0m",
            "\u001b[0;31mAttributeError\u001b[0m: type object 'VGG16' has no attribute 'self'"
          ]
        }
      ]
    },
    {
      "cell_type": "code",
      "metadata": {
        "id": "9uuiUizoCZsK",
        "colab_type": "code",
        "colab": {
          "base_uri": "https://localhost:8080/",
          "height": 165
        },
        "outputId": "27cdc78a-a4df-4361-b4a1-fc868e49274f"
      },
      "source": [
        "train(trainloader, module, criterion, optimizer, 2)"
      ],
      "execution_count": 14,
      "outputs": [
        {
          "output_type": "error",
          "ename": "NameError",
          "evalue": "ignored",
          "traceback": [
            "\u001b[0;31m---------------------------------------------------------------------------\u001b[0m",
            "\u001b[0;31mNameError\u001b[0m                                 Traceback (most recent call last)",
            "\u001b[0;32m<ipython-input-14-ead7b4b777c3>\u001b[0m in \u001b[0;36m<module>\u001b[0;34m()\u001b[0m\n\u001b[0;32m----> 1\u001b[0;31m \u001b[0mtrain\u001b[0m\u001b[0;34m(\u001b[0m\u001b[0mtrainloader\u001b[0m\u001b[0;34m,\u001b[0m \u001b[0mmodule\u001b[0m\u001b[0;34m,\u001b[0m \u001b[0mcriterion\u001b[0m\u001b[0;34m,\u001b[0m \u001b[0moptimizer\u001b[0m\u001b[0;34m,\u001b[0m \u001b[0;36m2\u001b[0m\u001b[0;34m)\u001b[0m\u001b[0;34m\u001b[0m\u001b[0;34m\u001b[0m\u001b[0m\n\u001b[0m",
            "\u001b[0;31mNameError\u001b[0m: name 'criterion' is not defined"
          ]
        }
      ]
    },
    {
      "cell_type": "code",
      "metadata": {
        "id": "uoWXKIlNE8nk",
        "colab_type": "code",
        "colab": {
          "base_uri": "https://localhost:8080/",
          "height": 198
        },
        "outputId": "143a54c2-3723-4242-9717-3b08512e7894"
      },
      "source": [
        "class a(torch.nn.Module):\n",
        "  def __init__(self):\n",
        "    super(a, self).__init__()\n",
        "\n",
        "mo = a\n",
        "print(mo.parameters())"
      ],
      "execution_count": 22,
      "outputs": [
        {
          "output_type": "error",
          "ename": "TypeError",
          "evalue": "ignored",
          "traceback": [
            "\u001b[0;31m---------------------------------------------------------------------------\u001b[0m",
            "\u001b[0;31mTypeError\u001b[0m                                 Traceback (most recent call last)",
            "\u001b[0;32m<ipython-input-22-2e4988ebdf53>\u001b[0m in \u001b[0;36m<module>\u001b[0;34m()\u001b[0m\n\u001b[1;32m      4\u001b[0m \u001b[0;34m\u001b[0m\u001b[0m\n\u001b[1;32m      5\u001b[0m \u001b[0mmo\u001b[0m \u001b[0;34m=\u001b[0m \u001b[0ma\u001b[0m\u001b[0;34m\u001b[0m\u001b[0;34m\u001b[0m\u001b[0m\n\u001b[0;32m----> 6\u001b[0;31m \u001b[0mprint\u001b[0m\u001b[0;34m(\u001b[0m\u001b[0mmo\u001b[0m\u001b[0;34m.\u001b[0m\u001b[0mparameters\u001b[0m\u001b[0;34m(\u001b[0m\u001b[0;34m)\u001b[0m\u001b[0;34m)\u001b[0m\u001b[0;34m\u001b[0m\u001b[0;34m\u001b[0m\u001b[0m\n\u001b[0m",
            "\u001b[0;31mTypeError\u001b[0m: parameters() missing 1 required positional argument: 'self'"
          ]
        }
      ]
    }
  ]
}