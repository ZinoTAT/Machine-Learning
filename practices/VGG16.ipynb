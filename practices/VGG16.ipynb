{
  "nbformat": 4,
  "nbformat_minor": 0,
  "metadata": {
    "colab": {
      "name": "Logistics Regression.ipynb",
      "provenance": [],
      "authorship_tag": "ABX9TyMJ+F42hS41AdtPT71W+CFS",
      "include_colab_link": true
    },
    "kernelspec": {
      "name": "python3",
      "display_name": "Python 3"
    }
  },
  "cells": [
    {
      "cell_type": "markdown",
      "metadata": {
        "id": "view-in-github",
        "colab_type": "text"
      },
      "source": [
        "<a href=\"https://colab.research.google.com/github/ZinoTAT/Machine-Learning-Practices/blob/master/practices/VGG16.ipynb\" target=\"_parent\"><img src=\"https://colab.research.google.com/assets/colab-badge.svg\" alt=\"Open In Colab\"/></a>"
      ]
    },
    {
      "cell_type": "markdown",
      "metadata": {
        "id": "NfKd-anN12RF",
        "colab_type": "text"
      },
      "source": [
        "VGG16小练习，pytorch实现\n",
        "\n",
        "\n"
      ]
    },
    {
      "cell_type": "code",
      "metadata": {
        "id": "8a8ZISAO2JCx",
        "colab_type": "code",
        "outputId": "ab86de8f-f5ae-49a6-b8e9-a9f22e66429a",
        "colab": {
          "base_uri": "https://localhost:8080/",
          "height": 34
        }
      },
      "source": [
        "from __future__ import absolute_import, division, print_function, unicode_literals\n",
        "\n",
        "import torch\n",
        "import torchvision as tv\n",
        "\n",
        "import numpy as np\n",
        "import matplotlib.pyplot as plt\n",
        "\n",
        "print(\"torch_version\",torch.__version__)"
      ],
      "execution_count": 10,
      "outputs": [
        {
          "output_type": "stream",
          "text": [
            "torch_version 1.3.1\n"
          ],
          "name": "stdout"
        }
      ]
    },
    {
      "cell_type": "code",
      "metadata": {
        "id": "5XbfB7Tt_0Zx",
        "colab_type": "code",
        "colab": {}
      },
      "source": [
        "class VGG16(torch.nn.Module):\n",
        "  def __init__(self, n_class=9, h=128, w = 128):\n",
        "    super(VGG16, self).__init__()\n",
        "    self.ReLU = torch.nn.ReLU(inplace=True)\n",
        "    self.MaxPool = torch.nn.MaxPool2d(2, stride=2, ceil_mode=True)\n",
        "    #第一层\n",
        "    self.conv1_1 = torch.nn.Conv2d(3, 64, 3, padding=1)\n",
        "    self.conv1_2 = torch.nn.Conv2d(64, 64, 3, padding=1)\n",
        "    \n",
        "    #第二层\n",
        "    self.conv2_1 = torch.nn.Conv2d(64, 128, 3, padding=1)\n",
        "    self.conv2_2 = torch.nn.Conv2d(128, 128, 3, padding=1)\n",
        "\n",
        "    #第三层\n",
        "    self.conv3_1 = torch.nn.Conv2d(128, 256, 3, padding=1)\n",
        "    self.conv3_2 = torch.nn.Conv2d(256, 256, 3, padding=1)\n",
        "    self.conv3_3 = torch.nn.Conv2d(256, 256, 3, padding=1)\n",
        "\n",
        "    #第四层\n",
        "    self.conv4_1 = torch.nn.Conv2d(256, 512, 3, padding=1)\n",
        "    self.conv4_2 = torch.nn.Conv2d(512, 512, 3, padding=1)\n",
        "    self.conv4_3 = torch.nn.Conv2d(512, 512, 3, padding=1)\n",
        "\n",
        "    #第五层\n",
        "    self.conv5_1 = torch.nn.Conv2d(256, 512, 3, padding=1)\n",
        "    self.conv5_2 = torch.nn.Conv2d(512, 512, 3, padding=1)\n",
        "    self.conv5_3 = torch.nn.Conv2d(512, 512, 3, padding=1)\n",
        "\n",
        "    #全连接层\n",
        "    self.Linear1 = torch.nn.Linear((h * w) / (32 * 32) * 512, 4096)\n",
        "    self.Linear2 = torch.nn.Linear(4096, 4096)\n",
        "    self.Linear3 = torch.nn.Linear(4096, 1000)\n",
        "    \n",
        "    #softmax\n",
        "    self.output = torch.nn.Linear(1000, n_class)\n",
        "    self.softmax = torch.nn.softmax(n_class)\n",
        "  def forward(self, x):\n",
        "    h = self.ReLU(self.conv1_1(x))\n",
        "    h = self.ReLU(self.conv1_2(h))\n",
        "    h = self.MaxPool(h)\n",
        "\n",
        "    h = self.ReLU(self.conv2_1(h))\n",
        "    h = self.ReLU(self.conv2_2(h))\n",
        "    h = self.MaxPool(h)\n",
        "\n",
        "    h = self.ReLU(self.conv3_1(h))\n",
        "    h = self.ReLU(self.conv3_2(h))\n",
        "    h = self.ReLU(self.conv3_3(h))\n",
        "    h = self.MaxPool(h)\n",
        "\n",
        "    h = self.ReLU(self.conv4_1(h))\n",
        "    h = self.ReLU(self.conv4_2(h))\n",
        "    h = self.ReLU(self.conv4_3(h))\n",
        "    h = self.MaxPool(h)\n",
        "\n",
        "    h = self.ReLU(self.conv5_1(h))\n",
        "    h = self.ReLU(self.conv5_2(h))\n",
        "    h = self.ReLU(self.conv5_3(h))\n",
        "    h = self.MaxPool(h)\n",
        "\n",
        "    h = self.ReLU(self.Linear1(h))\n",
        "    h = self.ReLU(self.Linear2(h))\n",
        "    h = self.ReLU(self.Linear3(h))\n",
        "\n",
        "    h = self.softmax(h)\n",
        "    return h\n",
        "\n"
      ],
      "execution_count": 0,
      "outputs": []
    },
    {
      "cell_type": "code",
      "metadata": {
        "id": "sl8pBB81Q98h",
        "colab_type": "code",
        "colab": {
          "base_uri": "https://localhost:8080/",
          "height": 252
        },
        "outputId": "87d66c84-e5cd-405e-929d-b58275f70f27"
      },
      "source": [
        "module = VGG16\n",
        "d_train_p = tv.datasets.MNIST('/data/',download=True)\n",
        "d_train = torch.utils.data.DataLoader(d_train_p)"
      ],
      "execution_count": 14,
      "outputs": [
        {
          "output_type": "stream",
          "text": [
            "\r0it [00:00, ?it/s]"
          ],
          "name": "stderr"
        },
        {
          "output_type": "stream",
          "text": [
            "Downloading http://yann.lecun.com/exdb/mnist/train-images-idx3-ubyte.gz to /data/MNIST/raw/train-images-idx3-ubyte.gz\n"
          ],
          "name": "stdout"
        },
        {
          "output_type": "stream",
          "text": [
            "9920512it [00:01, 8620376.41it/s]                            \n"
          ],
          "name": "stderr"
        },
        {
          "output_type": "stream",
          "text": [
            "Extracting /data/MNIST/raw/train-images-idx3-ubyte.gz to /data/MNIST/raw\n"
          ],
          "name": "stdout"
        },
        {
          "output_type": "stream",
          "text": [
            "  0%|          | 0/28881 [00:00<?, ?it/s]"
          ],
          "name": "stderr"
        },
        {
          "output_type": "stream",
          "text": [
            "Downloading http://yann.lecun.com/exdb/mnist/train-labels-idx1-ubyte.gz to /data/MNIST/raw/train-labels-idx1-ubyte.gz\n"
          ],
          "name": "stdout"
        },
        {
          "output_type": "stream",
          "text": [
            "32768it [00:00, 129966.65it/s]           \n",
            "  0%|          | 0/1648877 [00:00<?, ?it/s]"
          ],
          "name": "stderr"
        },
        {
          "output_type": "stream",
          "text": [
            "Extracting /data/MNIST/raw/train-labels-idx1-ubyte.gz to /data/MNIST/raw\n",
            "Downloading http://yann.lecun.com/exdb/mnist/t10k-images-idx3-ubyte.gz to /data/MNIST/raw/t10k-images-idx3-ubyte.gz\n"
          ],
          "name": "stdout"
        },
        {
          "output_type": "stream",
          "text": [
            "1654784it [00:00, 2365968.22it/s]                           \n",
            "0it [00:00, ?it/s]"
          ],
          "name": "stderr"
        },
        {
          "output_type": "stream",
          "text": [
            "Extracting /data/MNIST/raw/t10k-images-idx3-ubyte.gz to /data/MNIST/raw\n",
            "Downloading http://yann.lecun.com/exdb/mnist/t10k-labels-idx1-ubyte.gz to /data/MNIST/raw/t10k-labels-idx1-ubyte.gz\n"
          ],
          "name": "stdout"
        },
        {
          "output_type": "stream",
          "text": [
            "8192it [00:00, 49879.71it/s]            "
          ],
          "name": "stderr"
        },
        {
          "output_type": "stream",
          "text": [
            "Extracting /data/MNIST/raw/t10k-labels-idx1-ubyte.gz to /data/MNIST/raw\n",
            "Processing...\n",
            "Done!\n"
          ],
          "name": "stdout"
        },
        {
          "output_type": "stream",
          "text": [
            "\n"
          ],
          "name": "stderr"
        }
      ]
    },
    {
      "cell_type": "code",
      "metadata": {
        "id": "TG3DWeMRUrw7",
        "colab_type": "code",
        "colab": {
          "base_uri": "https://localhost:8080/",
          "height": 34
        },
        "outputId": "a2f1a10a-3c01-4e8d-8148-4a0ea056e244"
      },
      "source": [
        "print(d_train)"
      ],
      "execution_count": 17,
      "outputs": [
        {
          "output_type": "stream",
          "text": [
            "<torch.utils.data.dataloader.DataLoader object at 0x7fc16972a748>\n"
          ],
          "name": "stdout"
        }
      ]
    }
  ]
}