{
  "nbformat": 4,
  "nbformat_minor": 0,
  "metadata": {
    "colab": {
      "name": "Logistics Regression.ipynb",
      "provenance": [],
      "authorship_tag": "ABX9TyP1PADJ5uj8ohw8J+eMZbOx",
      "include_colab_link": true
    },
    "kernelspec": {
      "name": "python3",
      "display_name": "Python 3"
    }
  },
  "cells": [
    {
      "cell_type": "markdown",
      "metadata": {
        "id": "view-in-github",
        "colab_type": "text"
      },
      "source": [
        "<a href=\"https://colab.research.google.com/github/ZinoTAT/Machine-Learning-Practices/blob/master/ini.ipynb\" target=\"_parent\"><img src=\"https://colab.research.google.com/assets/colab-badge.svg\" alt=\"Open In Colab\"/></a>"
      ]
    },
    {
      "cell_type": "markdown",
      "metadata": {
        "id": "NfKd-anN12RF",
        "colab_type": "text"
      },
      "source": [
        "逻辑回归的小练习，使用tensorflow2，keras\n"
      ]
    },
    {
      "cell_type": "code",
      "metadata": {
        "id": "8a8ZISAO2JCx",
        "colab_type": "code",
        "outputId": "de51becd-f4ac-4e12-b9f5-6b199051b2fe",
        "colab": {
          "base_uri": "https://localhost:8080/",
          "height": 50
        }
      },
      "source": [
        "from __future__ import absolute_import, division, print_function, unicode_literals\n",
        "# Install TensorFlow\n",
        "try:\n",
        "  # %tensorflow_version only exists in Colab.\n",
        "  %tensorflow_version 2.x\n",
        "except Exception:\n",
        "  pass\n",
        "import torch\n",
        "import tensorflow as tf\n",
        "from tensorflow import keras\n",
        "\n",
        "import numpy as np\n",
        "import matplotlib.pyplot as plt\n",
        "\n",
        "print(\"torch_version\",torch.__version__)\n",
        "print(\"tensorflow_version\",tf.__version__)"
      ],
      "execution_count": 4,
      "outputs": [
        {
          "output_type": "stream",
          "text": [
            "torch_version 1.3.1\n",
            "tensorflow_version 2.1.0-rc1\n"
          ],
          "name": "stdout"
        }
      ]
    },
    {
      "cell_type": "markdown",
      "metadata": {
        "id": "CQLbf8rC2Eol",
        "colab_type": "text"
      },
      "source": [
        ""
      ]
    }
  ]
}